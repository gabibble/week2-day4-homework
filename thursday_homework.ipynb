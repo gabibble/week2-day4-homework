{
 "cells": [
  {
   "cell_type": "markdown",
   "metadata": {},
   "source": [
    "# User-Defined Functions & Scoping"
   ]
  },
  {
   "cell_type": "markdown",
   "metadata": {},
   "source": [
    "## Tasks Today:\n",
    "\n",
    "\n",
    "1) Functions <br>\n",
    " &nbsp;&nbsp;&nbsp;&nbsp; a) User-Defined vs. Built-In Functions <br>\n",
    " &nbsp;&nbsp;&nbsp;&nbsp; b) Accepting Parameters <br>\n",
    " &nbsp;&nbsp;&nbsp;&nbsp; c) Default Parameters <br>\n",
    " &nbsp;&nbsp;&nbsp;&nbsp; d) Making an Argument Optional <br>\n",
    " &nbsp;&nbsp;&nbsp;&nbsp; e) Keyword Arguments <br>\n",
    " &nbsp;&nbsp;&nbsp;&nbsp; f) Returning Values <br>\n",
    " &nbsp;&nbsp;&nbsp;&nbsp; g) *args <br>\n",
    " &nbsp;&nbsp;&nbsp;&nbsp; h) Docstring <br>\n",
    " &nbsp;&nbsp;&nbsp;&nbsp; i) Using a User Function in a Loop <br>\n",
    "2) Scope\n",
    "3) Creating more User-Defined functions "
   ]
  },
  {
   "cell_type": "markdown",
   "metadata": {},
   "source": [
    "\n",
    "## Functions"
   ]
  },
  {
   "cell_type": "markdown",
   "metadata": {},
   "source": [
    "##### User-Defined vs. Built-In Functions"
   ]
  },
  {
   "cell_type": "code",
   "execution_count": null,
   "metadata": {},
   "outputs": [],
   "source": [
    "#Built-In function\n",
    "print(\"This is from the built in function....'hello'\")\n",
    "\n",
    "#User-Defined Function \n",
    "def say_hello():\n",
    "    return \"This is from the user-defined function...'Hello World'\"\n",
    "\n",
    "print(say_hello())\n",
    "print(say_hello)"
   ]
  },
  {
   "cell_type": "markdown",
   "metadata": {},
   "source": [
    "##### Accepting Parameters"
   ]
  },
  {
   "cell_type": "code",
   "execution_count": null,
   "metadata": {
    "scrolled": false
   },
   "outputs": [],
   "source": [
    "#order matters\n",
    "# a variable can be any type of object\n",
    "#parameters are just place holders for arguments that we're passing in\n",
    "\n",
    "\n",
    "def print_full_name(first_name, last_name):    \n",
    "    return f\"Hello my last name is {last_name} and my first name is {first_name}\"\n",
    "print(print_full_name(\"Alex\", \"Swiggum\"))"
   ]
  },
  {
   "cell_type": "markdown",
   "metadata": {},
   "source": [
    "##### Default Parameters"
   ]
  },
  {
   "cell_type": "code",
   "execution_count": null,
   "metadata": {},
   "outputs": [],
   "source": [
    "#Default parameters must come after the non-default parameters...at all times\n",
    "def agent_name(first_name, last_name = \"Bond\"):\n",
    "    return f\"The name is {last_name}... {first_name} {last_name}.\"\n",
    "print(agent_name(\"James\"))\n",
    "print(\"\\n\")\n",
    "\n",
    "print(agent_name(\"James\", \"and the Giant Peach\"))"
   ]
  },
  {
   "cell_type": "code",
   "execution_count": null,
   "metadata": {},
   "outputs": [],
   "source": [
    "def oct_birthday(day= \"27th\", year = 1991, month = \"October\"):\n",
    "    return f\"Your birthday is the {day} day of {month} and you were born in {year}.\"\n",
    "print(oct_birthday(\"27th\", 2022))\n",
    "\n",
    "print(oct_birthday(\"29th\", 2022, \"January\"))\n",
    "\n",
    "print(oct_birthday())"
   ]
  },
  {
   "cell_type": "code",
   "execution_count": null,
   "metadata": {},
   "outputs": [],
   "source": [
    "def print_name(first, last):\n",
    "    return f\"Hello {first} {last}\"\n",
    "    \n",
    "first = \"Luke\"\n",
    "last = \"Skywalker\"\n",
    "print(print_name(first, last))"
   ]
  },
  {
   "cell_type": "markdown",
   "metadata": {},
   "source": [
    "##### Making an Argument Optional"
   ]
  },
  {
   "cell_type": "code",
   "execution_count": null,
   "metadata": {},
   "outputs": [],
   "source": [
    "# optional parameters also need to go after regular parameters\n",
    "def print_horse_name(first, middle = \"\", last = \"Ed\"):\n",
    "    return f\" Hello {first} {middle} {last}.\"\n",
    "print(print_horse_name(\"Mr.\"))\n",
    "print(print_horse_name(\"Epona\"))\n"
   ]
  },
  {
   "cell_type": "markdown",
   "metadata": {},
   "source": [
    "##### Keyword Arguments"
   ]
  },
  {
   "cell_type": "code",
   "execution_count": null,
   "metadata": {},
   "outputs": [],
   "source": [
    "def print_hero(name, power=\"flying\"):\n",
    "    return f\"{name}'s power is {power}.\"\n",
    "print(print_hero(power = \"Money\", name = \"Bruce\"))\n",
    "\n",
    "print(print_hero(\"Super Man\"))"
   ]
  },
  {
   "cell_type": "code",
   "execution_count": null,
   "metadata": {},
   "outputs": [],
   "source": [
    "# Create a function (or more than one) that accepts positional, default, and optional arguments.\n",
    "def func(name, fav = \"\", option = \"the outdoors\"):\n",
    "    return f\"your name is {name} and you {fav} {option}\"\n",
    "\n",
    "print(func(\"howard\", \"enjoy\"))\n"
   ]
  },
  {
   "cell_type": "code",
   "execution_count": null,
   "metadata": {},
   "outputs": [],
   "source": [
    "def taco_bell(drink, meal=\"\", dessert=\"cinnabon delight\"):\n",
    "    return f\"My order is a {drink} {meal} and of course, a {dessert} !\"\n",
    "print(taco_bell(\"baja blast\", \"doritos locos tacos\"))"
   ]
  },
  {
   "cell_type": "code",
   "execution_count": null,
   "metadata": {},
   "outputs": [],
   "source": [
    "def fav_season(thing, season=\"fall\"):\n",
    "    return f\"My favorite thing about {season} is {thing}.\"\n",
    "print(fav_season(\"Halloween\"))\n"
   ]
  },
  {
   "cell_type": "code",
   "execution_count": null,
   "metadata": {},
   "outputs": [],
   "source": [
    "def describe_pet(name, personality=\"\", type=\"dog\"):\n",
    "    return f\"I have a {personality} {type} named {name}\"\n",
    "\n",
    "print(describe_pet('franny', 'cute'))\n"
   ]
  },
  {
   "cell_type": "markdown",
   "metadata": {},
   "source": [
    "# Creating a start, stop, step function"
   ]
  },
  {
   "cell_type": "code",
   "execution_count": null,
   "metadata": {},
   "outputs": [],
   "source": [
    "#parameters are just place holders for arguments that we're passing in\n",
    "def my_range(taco, john = 0, navidad = 1):\n",
    "    for i in range(john, taco, navidad):\n",
    "        print(i)\n",
    "my_range(15, 1, 2)\n",
    "print(\"\\n\")\n",
    "my_range(20)"
   ]
  },
  {
   "cell_type": "markdown",
   "metadata": {},
   "source": [
    "##### Returning Values"
   ]
  },
  {
   "cell_type": "code",
   "execution_count": null,
   "metadata": {
    "scrolled": true
   },
   "outputs": [],
   "source": [
    "def add_nums(num1, num2):\n",
    "    return num1 + num2\n",
    "\n",
    "print(add_nums(5, 10))\n",
    "\n",
    "more_adding = add_nums(5, 10) + 10\n",
    "print(more_adding)"
   ]
  },
  {
   "cell_type": "markdown",
   "metadata": {},
   "source": [
    "##### *args / **kwargs (keyword arguments)"
   ]
  },
  {
   "cell_type": "code",
   "execution_count": null,
   "metadata": {},
   "outputs": [],
   "source": [
    "# *args stands for arguments (**kwargs are keyword argument) & they can take\n",
    "#any number of arguments as parameters\n",
    "\n",
    "def print_args(num1, *variable, **stuff):\n",
    "    print(f\"This is my positional argument: {num1}\")\n",
    "    print(f\" These are my *args: {variable}\")\n",
    "    print(f\"These are my **kwargs: {stuff}\")\n",
    "print(print_args(2, 10, \"megazord\", \"Ryan\", \"Cheetor\", \"Water Bottle\", \"nice late summer breeze\", names = [\"Alex\", \"Julia\"], subject = \"Python\", num2 = 15 ))"
   ]
  },
  {
   "cell_type": "code",
   "execution_count": null,
   "metadata": {
    "scrolled": true
   },
   "outputs": [],
   "source": [
    "#Write a function that accepts args and kwargs and prints out each argument and keyword argument on its own line\n",
    "def print_args(num1, *args, **kwargs):\n",
    "    print(\"These are our args:\")\n",
    "    for arg in args:\n",
    "        print(arg)\n",
    "    print(\"\\n\") \n",
    "    print(\"these are our kwargs:\")\n",
    "    for key, value in kwargs.items():\n",
    "        print(key, value)\n",
    "    print(\"\\n\")\n",
    "    print(\"this is our positional argument:\")\n",
    "    print(num1)\n",
    "print_args(2, 10, \"megazord\", \"Ryan\", \"Cheetor\", \"Water Bottle\", \"nice late summer breeze\", names = [\"Alex\", \"Julia\"], subject = \"Python\", num2 = 15 )"
   ]
  },
  {
   "cell_type": "code",
   "execution_count": null,
   "metadata": {
    "scrolled": true
   },
   "outputs": [],
   "source": [
    "#Write a function that takes in positional argument, at least 3 *args, and at least 2 **kwargs. Loop through them and print each one.\n",
    "def nick(arg1, *argv, **kwargs):\n",
    "    count = 1\n",
    "    print(\"First argument :\", arg1)\n",
    "    for arg in argv:\n",
    "        print(f\"this is argument number {count} called in the function :\", arg)\n",
    "        count += 1\n",
    "    print(\"\\n\") \n",
    "    \n",
    "    print(\"these are our kwargs?\")\n",
    "    for key, value in kwargs.items():\n",
    "        print(key, value)\n",
    "    print(\"\\n\")\n",
    "    \n",
    "    print(\"this is our positional argument, again\")\n",
    "    print(arg1)\n",
    " \n",
    "nick('Hello', 'spaghetti', 'is', 'not', 'that', 'great', 'give', 'me', 'penne', 'all', 'day', names = [\"Alex\", \"Julia\"], subject = \"Python\", num2 = 15 )\n"
   ]
  },
  {
   "cell_type": "code",
   "execution_count": null,
   "metadata": {
    "scrolled": true
   },
   "outputs": [],
   "source": [
    "def film(num, *shows, **movies):\n",
    "    for s in shows:\n",
    "        print(s)\n",
    "    \n",
    "    for key, value in movies.items():\n",
    "        print(\"Here are some moveis:\" + key,value)\n",
    "\n",
    "    print(num)\n",
    "\n",
    "film(7,8, \"friends\", \"breaking bad\", \"peaky blinders\", Ironman = [\"RDJ\"], Knivesout = [\"Chris Evans\"])\n"
   ]
  },
  {
   "cell_type": "code",
   "execution_count": null,
   "metadata": {},
   "outputs": [],
   "source": [
    "def my_func (name, *foods, **seasonal_activities):\n",
    "    print(f\"Hello my name is {name}\")\n",
    "    print(\"My favorite foods are:\")\n",
    "    for food in foods:\n",
    "        print(food)\n",
    "    print(\"My favorite seasonal activite are:\")\n",
    "    for key, value in seasonal_activities.items():\n",
    "        print(f\"{key}:\")\n",
    "        print(f\"--{value}\")\n",
    "    \n",
    "my_func('julia', 'pizza', 'tacos', 'bhan mi', summer = ['swimming','gardening'], winter = 'sleeping', spring = \"going for walks\")\n"
   ]
  },
  {
   "cell_type": "code",
   "execution_count": null,
   "metadata": {},
   "outputs": [],
   "source": [
    "def my_args(pos_arg, *args, **kwargs):\n",
    "    print(pos_arg)\n",
    "    print(\"\\n\")\n",
    "    for arg in args:\n",
    "        print(arg)\n",
    "    print(\"\\n\")\n",
    "    for key, value in kwargs.items():\n",
    "        print(key, value)\n",
    "\n",
    "my_args(24, \"Args\", \"And\", \"Kwargs\", \"Are\", \"Hard\", subject = [\"Python\", \"HTML\"], do_we_talk_too_much_about_food = True)\n"
   ]
  },
  {
   "cell_type": "markdown",
   "metadata": {},
   "source": [
    "##### Docstring"
   ]
  },
  {
   "cell_type": "code",
   "execution_count": null,
   "metadata": {},
   "outputs": [],
   "source": [
    "# nice way to provide notes about the utility of the function\n",
    "def print_names(arr):\n",
    "    \"\"\"\n",
    "    print_names(arr)\n",
    "    function requires a lsit to be passed as a parameter\n",
    "    and will print the contents of the list. Expecting\n",
    "    a list of names(strings) to be passed\n",
    "    \"\"\"\n",
    "    for name in arr:\n",
    "        print(name)\n",
    "        \n",
    "print_names([\"Lando\", \"Boba Fett\"])"
   ]
  },
  {
   "cell_type": "code",
   "execution_count": null,
   "metadata": {},
   "outputs": [],
   "source": []
  },
  {
   "cell_type": "markdown",
   "metadata": {},
   "source": [
    "##### Using a User Function in a Loop"
   ]
  },
  {
   "cell_type": "code",
   "execution_count": 2,
   "metadata": {},
   "outputs": [
    {
     "name": "stdout",
     "output_type": "stream",
     "text": [
      "What do you want to do? party\n",
      "Your answer is party\n",
      "Ready to quit?no\n",
      "What do you want to do? party\n",
      "Your answer is party\n",
      "Ready to quit?no\n",
      "What do you want to do? party some more\n",
      "Your answer is party some more\n",
      "Ready to quit?no\n",
      "What do you want to do? eat some nachos navidad\n",
      "Your answer is eat some nachos navidad\n",
      "Ready to quit?yers\n",
      "What do you want to do? yes\n",
      "Your answer is yes\n",
      "Ready to quit?yes\n"
     ]
    }
   ],
   "source": [
    "def print_input(answer):\n",
    "    print(f\"Your answer is {answer}\")\n",
    "\n",
    "def party_time():\n",
    "    while True:\n",
    "        ask = input(\"What do you want to do? \")\n",
    "        print_input(ask)\n",
    "\n",
    "        response = input(\"Ready to quit?\")\n",
    "        if response.lower()== \"yes\":\n",
    "            break\n",
    "#     else:\n",
    "#         continue\n",
    "\n",
    "party_time()"
   ]
  },
  {
   "cell_type": "markdown",
   "metadata": {},
   "source": [
    "## Function Exercises <br>\n",
    "### Exercise 1\n",
    "<p>Write a function that loops through a list of first_names and a list of last_names, combines the two and return a list of full_names</p>"
   ]
  },
  {
   "cell_type": "code",
   "execution_count": 9,
   "metadata": {},
   "outputs": [
    {
     "data": {
      "text/plain": [
       "['John Smith', 'Evan Smith', 'Jordan Williams', 'Max Bell']"
      ]
     },
     "execution_count": 9,
     "metadata": {},
     "output_type": "execute_result"
    }
   ],
   "source": [
    "first_name = ['John', 'Evan', 'Jordan', 'Max']\n",
    "last_name = ['Smith', 'Smith', 'Williams', 'Bell']\n",
    "\n",
    "# Output: ['John Smith', 'Evan Smith', 'Jordan Williams', 'Max Bell']\n",
    "\n",
    "# getting full name with helper function\n",
    "# helper function is a function with utility that can assist anothers function's goal\n",
    "def get_full_name(first, last):\n",
    "    \"\"\"Combine first and last to make a full name\"\"\"\n",
    "    full_name = f\"{first} {last}\"\n",
    "    return full_name.title()\n",
    "# print(get_full_name(\"Ryan\", \"Rhoades\"))\n",
    "\n",
    "def full_names(firsts, lasts):\n",
    "    fulls = []\n",
    "    for i in range(len(firsts)):\n",
    "        whole_name = get_full_name(firsts[i], lasts[i])\n",
    "#         print(whole_name)\n",
    "        fulls.append(whole_name)\n",
    "    return fulls\n",
    "\n",
    "full_names(first_name, last_name)"
   ]
  },
  {
   "cell_type": "code",
   "execution_count": 10,
   "metadata": {},
   "outputs": [
    {
     "data": {
      "text/plain": [
       "['John Smith', 'Evan Smith', 'Jordan Williams', 'Max Bell']"
      ]
     },
     "execution_count": 10,
     "metadata": {},
     "output_type": "execute_result"
    }
   ],
   "source": [
    "# looping by index and concatenating first and last name\n",
    "def full_name_getter(firsts, lasts):\n",
    "    full_names = []\n",
    "    for i in range(len(firsts)):\n",
    "        full_names.append(firsts[i] + \" \" + lasts[i])\n",
    "    return full_names\n",
    "full_name_getter(first_name, last_name)"
   ]
  },
  {
   "cell_type": "code",
   "execution_count": 12,
   "metadata": {},
   "outputs": [
    {
     "data": {
      "text/plain": [
       "['John Smith', 'Evan Smith', 'Jordan Williams', 'Max Bell']"
      ]
     },
     "execution_count": 12,
     "metadata": {},
     "output_type": "execute_result"
    }
   ],
   "source": [
    "# looping by index and concatenating first and last name with list comprehension\n",
    "def nice_names(firsts, lasts):\n",
    "    return [firsts[i] + \" \" + lasts[i] for i in range(len(firsts)) ]\n",
    "nice_names(first_name, last_name)"
   ]
  },
  {
   "cell_type": "code",
   "execution_count": 15,
   "metadata": {},
   "outputs": [
    {
     "name": "stdout",
     "output_type": "stream",
     "text": [
      "4\n",
      "0\n",
      "1\n",
      "2\n",
      "3\n"
     ]
    }
   ],
   "source": [
    "first_name = ['John', 'Evan', 'Jordan', 'Max']\n",
    "last_name = ['Smith', 'Smith', 'Williams', 'Bell']\n",
    "length_firsts = len(first_name)\n",
    "print(length_firsts)\n",
    "\n",
    "for i in range(length_firsts):\n",
    "    print(i)\n",
    "\n"
   ]
  },
  {
   "cell_type": "markdown",
   "metadata": {},
   "source": [
    "### Exercise 2\n",
    "Create a function that alters all values in the given list by subtracting 5 and then doubling them."
   ]
  },
  {
   "cell_type": "code",
   "execution_count": null,
   "metadata": {},
   "outputs": [],
   "source": [
    "input_list = [5,10,15,20,3]\n",
    "# output = [0,10,20,30,-4]\n",
    "\n",
    "def sum_mul(arr):\n",
    "    out = []\n",
    "    input_list = [5,10,15,20,3]\n",
    "    for i in arr:\n",
    "        out.append((i-5)*2)\n",
    "    return out\n",
    "sum_mul(input_list)\n"
   ]
  },
  {
   "cell_type": "code",
   "execution_count": 17,
   "metadata": {},
   "outputs": [
    {
     "name": "stdout",
     "output_type": "stream",
     "text": [
      "[0, 10, 20, 30, -4]\n"
     ]
    }
   ],
   "source": [
    "input_list = [5,10,15,20,3]\n",
    "\n",
    "\n",
    "def lst(num):\n",
    "    new_list = [2 * (i - 5) for i in num]\n",
    "    return new_list\n",
    "\n",
    "print(lst(input_list))\n"
   ]
  },
  {
   "cell_type": "code",
   "execution_count": null,
   "metadata": {},
   "outputs": [],
   "source": [
    "input_list = [5,10,15,20,3]\n",
    "# output = [0,10,20,30,-4]\n",
    "\n",
    "def subFive(nums):\n",
    "    return[((nums[i]-5)*2) for i in range(len(nums))]\n",
    "subFive(input_list)\n"
   ]
  },
  {
   "cell_type": "code",
   "execution_count": 18,
   "metadata": {},
   "outputs": [
    {
     "name": "stdout",
     "output_type": "stream",
     "text": [
      "[0, 10, 20, 30, -4]\n"
     ]
    }
   ],
   "source": [
    "def minus_five(arr):\n",
    "    return [x-5 for x in arr]\n",
    "\n",
    "def minus_five_times_two(arr):\n",
    "    return [x*2 for x in minus_five(arr)]\n",
    "\n",
    "print(minus_five_times_two(input_list))\n"
   ]
  },
  {
   "cell_type": "code",
   "execution_count": 19,
   "metadata": {},
   "outputs": [
    {
     "name": "stdout",
     "output_type": "stream",
     "text": [
      "[0, 10, 20, 30, -4]\n"
     ]
    }
   ],
   "source": [
    "input_list = [5,10,15,20,3]\n",
    "# output = [0,10,20,30,-4]\n",
    "def alter_lst(arr):\n",
    "    l = []\n",
    "    for i in arr:\n",
    "        i -= 5\n",
    "        l.append(i * 2)\n",
    "    return l\n",
    "print(alter_lst(input_list))\n"
   ]
  },
  {
   "cell_type": "markdown",
   "metadata": {},
   "source": [
    "### Exercise 3\n",
    "Create a function that takes in a list of strings and filters out the strings that DO NOT contain vowels. "
   ]
  },
  {
   "cell_type": "code",
   "execution_count": 27,
   "metadata": {},
   "outputs": [
    {
     "name": "stdout",
     "output_type": "stream",
     "text": [
      "['Sheldon', 'Leonard', 'Amy']\n"
     ]
    }
   ],
   "source": [
    "string_list = ['Sheldon','Pnny','Leonard','Hwrd','Rj','Amy','Strt']\n",
    "# output = ['Sheldon','Leonard','Amy']\n",
    "# string_list = ['Sheldon','Penny','Leonard','Howard','Raj','Amy','Stuart']\n",
    "\n",
    "\n",
    "def hasvowels(word):\n",
    "    if 'a' in word.lower() or 'e' in word.lower() or 'i' in word or 'o' in word or 'u' in word: \n",
    "        return True\n",
    "def vowelnamesonly(arr):\n",
    "    return [name for name in arr if hasvowels(name) == True]\n",
    "\n",
    "print(vowelnamesonly(string_list))\n",
    "\n"
   ]
  },
  {
   "cell_type": "code",
   "execution_count": 29,
   "metadata": {},
   "outputs": [
    {
     "name": "stdout",
     "output_type": "stream",
     "text": [
      "['Sheldon', 'Leonard', 'Amy']\n"
     ]
    }
   ],
   "source": [
    "def get_vowels(arr):\n",
    "    \n",
    "    final_list = []\n",
    "    for name in arr:\n",
    "        for char in 'aeiou':\n",
    "            if char in name.lower() and name not in final_list:\n",
    "                final_list.append(name)\n",
    "                \n",
    "    return final_list\n",
    "\n",
    "print(get_vowels(string_list))\n"
   ]
  },
  {
   "cell_type": "code",
   "execution_count": null,
   "metadata": {},
   "outputs": [],
   "source": []
  },
  {
   "cell_type": "markdown",
   "metadata": {},
   "source": [
    "### Exercise 3.5\n",
    "Create a function that takes in a list of strings and filters out the strings that have less than 6 characters. "
   ]
  },
  {
   "cell_type": "code",
   "execution_count": 31,
   "metadata": {},
   "outputs": [
    {
     "data": {
      "text/plain": [
       "['Penny', 'Raj', 'Amy']"
      ]
     },
     "execution_count": 31,
     "metadata": {},
     "output_type": "execute_result"
    }
   ],
   "source": [
    "string_list = ['Sheldon','Penny','Leonard','Howard','Raj','Amy','Stuart']\n",
    "# output = ['Sheldon', 'Leonard','Howard','Stuart']\n",
    "\n",
    "def big_bang(names):\n",
    "    new_big_bang = [name for name in names if len(name)<6]\n",
    "\n",
    "    return new_big_bang\n",
    "\n",
    "big_bang(string_list)\n"
   ]
  },
  {
   "cell_type": "markdown",
   "metadata": {},
   "source": [
    "### Exercise 4\n",
    "Create a function that accepts a list as a parameter and returns a dictionary containing the list items as it's keys, and the number of times they appear in the list as the values"
   ]
  },
  {
   "cell_type": "code",
   "execution_count": 48,
   "metadata": {},
   "outputs": [
    {
     "name": "stdout",
     "output_type": "stream",
     "text": [
      "{}\n",
      "{'Harry': 1}\n",
      "{'Harry': 1, 'Hermione': 1}\n",
      "{'Harry': 2, 'Hermione': 1}\n",
      "{'Harry': 2, 'Hermione': 1, 'Ron': 1}\n",
      "{'Harry': 2, 'Hermione': 1, 'Ron': 1, 'Dobby': 1}\n",
      "{'Harry': 2, 'Hermione': 1, 'Ron': 1, 'Dobby': 1, 'Draco': 1}\n",
      "{'Harry': 2, 'Hermione': 1, 'Ron': 1, 'Dobby': 1, 'Draco': 1, 'Luna': 1}\n",
      "{'Harry': 3, 'Hermione': 1, 'Ron': 1, 'Dobby': 1, 'Draco': 1, 'Luna': 1}\n",
      "{'Harry': 3, 'Hermione': 2, 'Ron': 1, 'Dobby': 1, 'Draco': 1, 'Luna': 1}\n",
      "{'Harry': 3, 'Hermione': 2, 'Ron': 2, 'Dobby': 1, 'Draco': 1, 'Luna': 1}\n",
      "{'Harry': 3, 'Hermione': 2, 'Ron': 3, 'Dobby': 1, 'Draco': 1, 'Luna': 1}\n",
      "{'Harry': 3, 'Hermione': 2, 'Ron': 4, 'Dobby': 1, 'Draco': 1, 'Luna': 1}\n"
     ]
    },
    {
     "data": {
      "text/plain": [
       "{'Harry': 3, 'Hermione': 2, 'Ron': 4, 'Dobby': 1, 'Draco': 1, 'Luna': 1}"
      ]
     },
     "execution_count": 48,
     "metadata": {},
     "output_type": "execute_result"
    }
   ],
   "source": [
    "example_list = [\"Harry\", 'Hermione','Harry','Ron','Dobby','Draco','Luna','Harry','Hermione','Ron','Ron','Ron']\n",
    "\n",
    "# output = {\n",
    "#     \"Harry\":3,\n",
    "#     \"Hermione\":2,\n",
    "#     \"Ron\":4,\n",
    "#     \"Dobby\":1,\n",
    "#     \"Draco\":1,\n",
    "#     \"Luna\": 1\n",
    "# }\n",
    "\n",
    "def quidditch_scores(arr):\n",
    "    points = {}\n",
    "    print(points)\n",
    "    for name in arr:      \n",
    "        \n",
    "        if name not in points:\n",
    "            points[name] = 1\n",
    "            print(points)\n",
    "        else:\n",
    "            points[name] += 1\n",
    "            print(points)\n",
    "            \n",
    "    return points\n",
    "\n",
    "quidditch_scores(example_list)\n",
    "\n"
   ]
  },
  {
   "cell_type": "code",
   "execution_count": null,
   "metadata": {},
   "outputs": [],
   "source": [
    "def list_count(names):\n",
    "    count_dict = {}\n",
    "    \n",
    "    for value in names:\n",
    "        if value in count_dict:\n",
    "            count_dict[value] += 1\n",
    "        else:\n",
    "            count_dict[value] = 1\n",
    "    \n",
    "    return count_dict\n",
    "\n",
    "list_count(example_list)\n"
   ]
  },
  {
   "cell_type": "code",
   "execution_count": 46,
   "metadata": {
    "scrolled": true
   },
   "outputs": [
    {
     "ename": "NameError",
     "evalue": "name 'name_dict' is not defined",
     "output_type": "error",
     "traceback": [
      "\u001b[1;31m---------------------------------------------------------------------------\u001b[0m",
      "\u001b[1;31mNameError\u001b[0m                                 Traceback (most recent call last)",
      "Input \u001b[1;32mIn [46]\u001b[0m, in \u001b[0;36m<cell line: 1>\u001b[1;34m()\u001b[0m\n\u001b[1;32m----> 1\u001b[0m name_dict \u001b[38;5;241m=\u001b[39m {{name : count} \u001b[38;5;28;01mif\u001b[39;00m name \u001b[38;5;129;01mnot\u001b[39;00m \u001b[38;5;129;01min\u001b[39;00m name_dict \u001b[38;5;28;01melse\u001b[39;00m {name : count \u001b[38;5;241m+\u001b[39m\u001b[38;5;241m1\u001b[39m} \u001b[38;5;28;01mfor\u001b[39;00m name \u001b[38;5;129;01min\u001b[39;00m example_list}\n",
      "Input \u001b[1;32mIn [46]\u001b[0m, in \u001b[0;36m<setcomp>\u001b[1;34m(.0)\u001b[0m\n\u001b[1;32m----> 1\u001b[0m name_dict \u001b[38;5;241m=\u001b[39m {{name : count} \u001b[38;5;28;01mif\u001b[39;00m name \u001b[38;5;129;01mnot\u001b[39;00m \u001b[38;5;129;01min\u001b[39;00m \u001b[43mname_dict\u001b[49m \u001b[38;5;28;01melse\u001b[39;00m {name : count \u001b[38;5;241m+\u001b[39m\u001b[38;5;241m1\u001b[39m} \u001b[38;5;28;01mfor\u001b[39;00m name \u001b[38;5;129;01min\u001b[39;00m example_list}\n",
      "\u001b[1;31mNameError\u001b[0m: name 'name_dict' is not defined"
     ]
    }
   ],
   "source": [
    "name_dict = {{name : count} if name not in name_dict else {name : count + 1} for name in example_list}"
   ]
  },
  {
   "cell_type": "code",
   "execution_count": 47,
   "metadata": {},
   "outputs": [
    {
     "name": "stdout",
     "output_type": "stream",
     "text": [
      "{'Dobby': 1, 'Hermione': 2, 'Draco': 1, 'Luna': 1, 'Harry': 3, 'Ron': 4}\n"
     ]
    }
   ],
   "source": [
    "def harry_potter(arr):\n",
    "    \n",
    "    return {name : arr.count(name) for name in set(arr)}\n",
    "\n",
    "print(harry_potter(example_list))\n"
   ]
  },
  {
   "cell_type": "markdown",
   "metadata": {},
   "source": [
    "\n",
    "\n",
    "## Scope <br>\n",
    "<p>Scope refers to the ability to access variables, different types of scope include:<br>a) Global<br>b) Function (local)<br>c) Class (local)</p>"
   ]
  },
  {
   "cell_type": "code",
   "execution_count": 54,
   "metadata": {},
   "outputs": [
    {
     "name": "stdout",
     "output_type": "stream",
     "text": [
      "3\n",
      "6\n"
     ]
    },
    {
     "ename": "NameError",
     "evalue": "name 'num_3' is not defined",
     "output_type": "error",
     "traceback": [
      "\u001b[1;31m---------------------------------------------------------------------------\u001b[0m",
      "\u001b[1;31mNameError\u001b[0m                                 Traceback (most recent call last)",
      "Input \u001b[1;32mIn [54]\u001b[0m, in \u001b[0;36m<cell line: 18>\u001b[1;34m()\u001b[0m\n\u001b[0;32m     15\u001b[0m \u001b[38;5;28;01mdef\u001b[39;00m \u001b[38;5;21mmyFunc2\u001b[39m():\n\u001b[0;32m     16\u001b[0m     \u001b[38;5;28mprint\u001b[39m(num_3)\n\u001b[1;32m---> 18\u001b[0m \u001b[43mmyFunc2\u001b[49m\u001b[43m(\u001b[49m\u001b[43m)\u001b[49m\n",
      "Input \u001b[1;32mIn [54]\u001b[0m, in \u001b[0;36mmyFunc2\u001b[1;34m()\u001b[0m\n\u001b[0;32m     15\u001b[0m \u001b[38;5;28;01mdef\u001b[39;00m \u001b[38;5;21mmyFunc2\u001b[39m():\n\u001b[1;32m---> 16\u001b[0m     \u001b[38;5;28mprint\u001b[39m(\u001b[43mnum_3\u001b[49m)\n",
      "\u001b[1;31mNameError\u001b[0m: name 'num_3' is not defined"
     ]
    }
   ],
   "source": [
    "# placement of variable declaration matters\n",
    "\n",
    "number = 3 # global variable\n",
    "\n",
    "def myFunc():\n",
    "    num_3 = 6 # local function variable\n",
    "    return num_3\n",
    "\n",
    "# print(num_3)\n",
    "print(number)\n",
    "\n",
    "return_num = myFunc()\n",
    "print(return_num)\n",
    "\n",
    "def myFunc2():\n",
    "    print(num_3)\n",
    "\n",
    "myFunc2()\n"
   ]
  },
  {
   "cell_type": "markdown",
   "metadata": {},
   "source": [
    "# Homework Exercises"
   ]
  },
  {
   "cell_type": "markdown",
   "metadata": {},
   "source": [
    "## Exercise 1 <br>\n",
    "<p>Given a list as a parameter,write a function that returns a list of numbers that are less than ten</b></i></p><br>\n",
    "<p> For example: Say your input parameter to the function is [1,11,14,5,8,9]...Your output should [1,5,8,9]</p>"
   ]
  },
  {
   "cell_type": "code",
   "execution_count": 2,
   "metadata": {},
   "outputs": [
    {
     "data": {
      "text/plain": [
       "[1, 5, 8, 9]"
      ]
     },
     "execution_count": 2,
     "metadata": {},
     "output_type": "execute_result"
    }
   ],
   "source": [
    "# Use the following list - [1,11,14,5,8,9]\n",
    "\n",
    "l_1 = [1,11,14,5,8,9]\n",
    "\n",
    "def less_than_10(arr):\n",
    "    \"\"\"given a list of numbers, will return a list of numbers less than 10\"\"\"\n",
    "    return[x for x in arr if x < 10]\n",
    "\n",
    "less_than_10(l_1)\n",
    "\n",
    "\n"
   ]
  },
  {
   "cell_type": "markdown",
   "metadata": {},
   "source": [
    "## Exercise 2 <br>\n",
    "<p>Write a function that takes in two lists and returns the two lists merged together and sorted<br>\n",
    "<b><i>Hint: You can use the .sort() method</i></b></p>"
   ]
  },
  {
   "cell_type": "code",
   "execution_count": 7,
   "metadata": {},
   "outputs": [
    {
     "data": {
      "text/plain": [
       "[1, 2, 3, 3, 4, 4, 5, 5, 6, 6, 7, 8, 10]"
      ]
     },
     "execution_count": 7,
     "metadata": {},
     "output_type": "execute_result"
    }
   ],
   "source": [
    "l_1 = [1,2,3,4,5,6]\n",
    "l_2 = [3,4,5,6,7,8,10]\n",
    "\n",
    "def join_and_sort(a,b):\n",
    "    \"\"\"Given 2 lists, will return a single merged and sorted list\"\"\"\n",
    "    return sorted(a+b)\n",
    "\n",
    "join_and_sort(l_1,l_2)\n"
   ]
  },
  {
   "cell_type": "markdown",
   "metadata": {},
   "source": [
    "## Exercise 3 <br>\n",
    "<p>Create a function that returns the sum of the two lowest positive numbers given an array of minimum 4 positive integers. No floats or non-positive integers will be passed.\n",
    "<p>"
   ]
  },
  {
   "cell_type": "code",
   "execution_count": 21,
   "metadata": {},
   "outputs": [
    {
     "data": {
      "text/plain": [
       "7"
      ]
     },
     "execution_count": 21,
     "metadata": {},
     "output_type": "execute_result"
    }
   ],
   "source": [
    "example = [19, 5, 42, 2, 77]\n",
    "#output = 7\n",
    "\n",
    "def min_of_lowest_two(arr):\n",
    "    \"\"\"will return the sum of the lowest numbers in a list\"\"\"\n",
    "    return sum(sorted(arr)[:2])\n",
    "\n",
    "min_of_lowest_two(example)\n"
   ]
  },
  {
   "cell_type": "markdown",
   "metadata": {},
   "source": [
    "## Exercise 4 <br>\n",
    "<p>Given an array of integers.<br>\n",
    "\n",
    "Return an array, where the first element is the count of positives numbers and the second element is sum of negative numbers. 0 is neither positive nor negative.<br>\n",
    "\n",
    "If the input array is empty or null, return an empty array.<br>\n",
    "</p>"
   ]
  },
  {
   "cell_type": "code",
   "execution_count": 20,
   "metadata": {},
   "outputs": [
    {
     "name": "stdout",
     "output_type": "stream",
     "text": [
      "(10, -65)\n",
      "(10, -65)\n"
     ]
    }
   ],
   "source": [
    "example_input = [1, 2, 3, 4, 5, 6, 7, 8, 9, 10, -11, -12, -13, -14, -15]\n",
    "# output  = [10,-65] \n",
    "\n",
    "def count_pos_sum_neg(arr):\n",
    "    \"\"\"given a list of numbers, will return an array of the count of positives and the sum of negative numbers\"\"\"\n",
    "    return [len([x for x in arr if x > 0]), sum([x for x in arr if x < 0])]\n",
    "\n",
    "\n",
    "\n",
    "#Version with helper functions\n",
    "\n",
    "def count_pos(arr):\n",
    "    return len([x for x in arr if x > 0])\n",
    "def sum_neg(arr):\n",
    "    return sum([x for x in arr if x < 0])\n",
    "\n",
    "def count_pos_sum_neg2(arr):\n",
    "    return [count_pos(arr), sum_neg(arr)]\n",
    "\n",
    "print(count_pos_sum_neg(example_input))\n",
    "print(count_pos_sum_neg2(example_input))\n"
   ]
  }
 ],
 "metadata": {
  "kernelspec": {
   "display_name": "Python 3 (ipykernel)",
   "language": "python",
   "name": "python3"
  },
  "language_info": {
   "codemirror_mode": {
    "name": "ipython",
    "version": 3
   },
   "file_extension": ".py",
   "mimetype": "text/x-python",
   "name": "python",
   "nbconvert_exporter": "python",
   "pygments_lexer": "ipython3",
   "version": "3.9.12"
  }
 },
 "nbformat": 4,
 "nbformat_minor": 2
}
